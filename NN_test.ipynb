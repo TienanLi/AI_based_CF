{
 "cells": [
  {
   "cell_type": "code",
   "execution_count": 2,
   "metadata": {},
   "outputs": [],
   "source": [
    "import torch\n",
    "import torchvision\n",
    "from torchvision import transforms, datasets\n",
    "\n"
   ]
  },
  {
   "cell_type": "code",
   "execution_count": 13,
   "metadata": {},
   "outputs": [],
   "source": [
    "import matplotlib.pyplot as plt"
   ]
  },
  {
   "cell_type": "code",
   "execution_count": 3,
   "metadata": {},
   "outputs": [],
   "source": [
    "train = datasets.MNIST(\"\", train=True, download=False, \n",
    "                       transform=transforms.Compose([transforms.ToTensor()]))\n",
    "\n",
    "test = datasets.MNIST(\"\", train=False, download=False, \n",
    "                       transform=transforms.Compose([transforms.ToTensor()]))"
   ]
  },
  {
   "cell_type": "code",
   "execution_count": 7,
   "metadata": {},
   "outputs": [],
   "source": [
    "trainset = torch.utils.data.DataLoader(train, batch_size=10, shuffle=True)\n",
    "testset = torch.utils.data.DataLoader(test, batch_size=10, shuffle=True)"
   ]
  },
  {
   "cell_type": "code",
   "execution_count": 21,
   "metadata": {},
   "outputs": [],
   "source": [
    "import torch.nn as nn\n",
    "import torch.nn.functional as F\n"
   ]
  },
  {
   "cell_type": "code",
   "execution_count": 38,
   "metadata": {},
   "outputs": [
    {
     "name": "stdout",
     "output_type": "stream",
     "text": [
      "Net(\n",
      "  (fc1): Linear(in_features=784, out_features=64, bias=True)\n",
      "  (fc2): Linear(in_features=64, out_features=64, bias=True)\n",
      "  (fc3): Linear(in_features=64, out_features=64, bias=True)\n",
      "  (fc4): Linear(in_features=64, out_features=10, bias=True)\n",
      ")\n"
     ]
    }
   ],
   "source": [
    "class Net(nn.Module):\n",
    "    \n",
    "    def __init__(self):\n",
    "        super().__init__()\n",
    "        self.fc1 = nn.Linear(28 * 28, 64)\n",
    "        self.fc2 = nn.Linear(64, 64)\n",
    "        self.fc3 = nn.Linear(64, 64)\n",
    "        self.fc4 = nn.Linear(64, 10)\n",
    "        \n",
    "    def forward(self, x):\n",
    "        x = F.relu(self.fc1(x))\n",
    "        x = F.relu(self.fc2(x))\n",
    "        x = F.relu(self.fc3(x))\n",
    "        x = self.fc4(x)\n",
    "        return F.log_softmax(x, dim=1)\n",
    "        \n",
    "    \n",
    "net = Net()\n",
    "print(net)                                                                                                                                                                       \n",
    "        \n",
    "    "
   ]
  },
  {
   "cell_type": "code",
   "execution_count": 40,
   "metadata": {},
   "outputs": [
    {
     "name": "stdout",
     "output_type": "stream",
     "text": [
      "tensor(0.1294, grad_fn=<NllLossBackward>)\n",
      "tensor(0.1595, grad_fn=<NllLossBackward>)\n",
      "tensor(0.0064, grad_fn=<NllLossBackward>)\n"
     ]
    }
   ],
   "source": [
    "import torch.optim as optim\n",
    "optimizer = optim.Adam(net.parameters(), lr=1e-3)\n",
    "\n",
    "EPOCHES = 3\n",
    "\n",
    "for epoch in range(EPOCHES):\n",
    "    for data in trainset:\n",
    "        X, y = data\n",
    "        net.zero_grad()\n",
    "        output = net(X.view([-1, 28 * 28]))\n",
    "        loss = F.nll_loss(output, y)\n",
    "        loss.backward()\n",
    "        optimizer.step()\n",
    "    print(loss)\n",
    "        "
   ]
  },
  {
   "cell_type": "code",
   "execution_count": 51,
   "metadata": {},
   "outputs": [
    {
     "name": "stdout",
     "output_type": "stream",
     "text": [
      "tensor([[-2.3035e+01, -1.4941e+01, -1.1677e+01, -1.2952e+01, -2.0991e+01,\n",
      "         -2.3365e+01, -3.8361e+01, -1.3113e-05, -1.9053e+01, -1.3169e+01],\n",
      "        [-1.2371e+01, -1.1610e+01, -1.1761e+01, -8.7612e+00, -5.5162e+00,\n",
      "         -7.6248e+00, -1.7918e+01, -9.2812e+00, -8.5016e+00, -4.9957e-03],\n",
      "        [-1.5458e+01, -1.4700e+01, -1.0660e+01, -2.0246e+01, -1.3982e-04,\n",
      "         -1.5653e+01, -1.7830e+01, -9.0723e+00, -1.7226e+01, -1.4066e+01],\n",
      "        [-1.1598e+01, -1.4185e+01, -1.1444e+01, -1.9749e+01, -1.1813e-04,\n",
      "         -1.4841e+01, -1.4995e+01, -9.4195e+00, -1.3941e+01, -1.1126e+01],\n",
      "        [-2.7128e+01, -1.5349e+01, -2.0889e+01, -9.1013e+00, -2.0906e+01,\n",
      "         -1.2600e-04, -1.7223e+01, -2.4291e+01, -1.1166e+01, -1.5735e+01],\n",
      "        [-1.3993e-03, -1.4140e+01, -8.5927e+00, -1.1078e+01, -9.4338e+00,\n",
      "         -1.1284e+01, -1.0161e+01, -9.3384e+00, -9.3851e+00, -7.0204e+00],\n",
      "        [-1.0783e+01, -1.2376e+01, -1.0286e+01, -7.8880e+00, -1.4319e+01,\n",
      "         -1.3216e+01, -1.5049e+01, -1.1991e+01, -4.7339e-04, -1.0407e+01],\n",
      "        [-4.9305e+00, -3.6391e+00, -3.2697e+00, -6.5834e+00, -4.0349e-01,\n",
      "         -7.1384e+00, -6.8647e+00, -2.1955e+00, -2.0381e+00, -4.1541e+00],\n",
      "        [-1.0431e+01, -1.3183e+01, -1.0255e+01, -1.8682e+01, -1.4125e-04,\n",
      "         -1.3122e+01, -1.1421e+01, -1.0448e+01, -1.3293e+01, -1.0380e+01],\n",
      "        [-1.3899e+01, -1.6462e+01, -5.4835e-05, -1.1752e+01, -1.0730e+01,\n",
      "         -1.8501e+01, -2.0257e+01, -1.1087e+01, -1.1640e+01, -1.7659e+01]]) tensor([7, 9, 4, 4, 5, 0, 8, 8, 4, 2])\n"
     ]
    }
   ],
   "source": [
    "print(output, y)"
   ]
  },
  {
   "cell_type": "code",
   "execution_count": null,
   "metadata": {},
   "outputs": [],
   "source": []
  }
 ],
 "metadata": {
  "kernelspec": {
   "display_name": "Python 3",
   "language": "python",
   "name": "python3"
  },
  "language_info": {
   "codemirror_mode": {
    "name": "ipython",
    "version": 3
   },
   "file_extension": ".py",
   "mimetype": "text/x-python",
   "name": "python",
   "nbconvert_exporter": "python",
   "pygments_lexer": "ipython3",
   "version": "3.7.2"
  },
  "varInspector": {
   "cols": {
    "lenName": 16,
    "lenType": 16,
    "lenVar": 40
   },
   "kernels_config": {
    "python": {
     "delete_cmd_postfix": "",
     "delete_cmd_prefix": "del ",
     "library": "var_list.py",
     "varRefreshCmd": "print(var_dic_list())"
    },
    "r": {
     "delete_cmd_postfix": ") ",
     "delete_cmd_prefix": "rm(",
     "library": "var_list.r",
     "varRefreshCmd": "cat(var_dic_list()) "
    }
   },
   "types_to_exclude": [
    "module",
    "function",
    "builtin_function_or_method",
    "instance",
    "_Feature"
   ],
   "window_display": false
  }
 },
 "nbformat": 4,
 "nbformat_minor": 4
}
