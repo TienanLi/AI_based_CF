{
 "cells": [
  {
   "cell_type": "code",
   "execution_count": 1,
   "metadata": {},
   "outputs": [],
   "source": [
    "import os\n",
    "import numpy as np\n",
    "\n",
    "from tianshou.policy import DDPGPolicy\n",
    "from tianshou.utils.net.common import Net\n",
    "from tianshou.exploration import GaussianNoise\n",
    "from tianshou.trainer import offpolicy_trainer\n",
    "from tianshou.utils.net.continuous import Actor, Critic\n",
    "from tianshou.data import Collector, ReplayBuffer, VectorReplayBuffer, to_numpy\n",
    "import torch\n",
    "import datetime\n",
    "import pickle\n",
    "import matplotlib.pyplot as plt\n",
    "\n"
   ]
  },
  {
   "cell_type": "code",
   "execution_count": 2,
   "metadata": {},
   "outputs": [
    {
     "name": "stdout",
     "output_type": "stream",
     "text": [
      "Observations shape: (3,)\n",
      "Actions shape: (1,)\n",
      "liming\n"
     ]
    }
   ],
   "source": [
    "from CF_env import CFEnv\n",
    "\n",
    "env = CFEnv('liming')\n",
    "train_envs = CFEnv('liming')\n",
    "test_envs = CFEnv('liming')\n",
    "\n",
    "\n",
    "state_shape = env.observation_space.shape \n",
    "action_shape = env.action_space.shape\n",
    "print(\"Observations shape:\", state_shape)\n",
    "print(\"Actions shape:\", action_shape)\n",
    "print(env.rewardName)"
   ]
  },
  {
   "cell_type": "code",
   "execution_count": 3,
   "metadata": {
    "scrolled": true
   },
   "outputs": [
    {
     "name": "stderr",
     "output_type": "stream",
     "text": [
      "Epoch #1: 10001it [02:37, 63.37it/s, env_step=10000, len=1614, loss/actor=-229.923, loss/critic=63.642, n/ep=0, n/st=1, rew=40632.07]\n",
      "Epoch #2:   0%| | 12/10000 [00:00<01:53, 88.20it/s, env_step=10012, len=1614, loss/actor=-230.024, loss/critic=66.261, "
     ]
    },
    {
     "name": "stdout",
     "output_type": "stream",
     "text": [
      "Epoch #1: test_reward: 40891.589844 ± 0.000000, best_reward: 40891.589844 ± 0.000000 in #1\n"
     ]
    },
    {
     "name": "stderr",
     "output_type": "stream",
     "text": [
      "Epoch #2: 10001it [02:38, 63.16it/s, env_step=20000, len=1614, loss/actor=-420.376, loss/critic=128.441, n/ep=0, n/st=1, rew=42468.16]\n",
      "Epoch #3:   0%| | 8/10000 [00:00<02:54, 57.30it/s, env_step=20008, len=1614, loss/actor=-420.518, loss/critic=130.752, "
     ]
    },
    {
     "name": "stdout",
     "output_type": "stream",
     "text": [
      "Epoch #2: test_reward: 42263.136719 ± 0.000000, best_reward: 42263.136719 ± 0.000000 in #2\n"
     ]
    },
    {
     "name": "stderr",
     "output_type": "stream",
     "text": [
      "Epoch #3: 10001it [02:36, 64.01it/s, env_step=30000, len=1614, loss/actor=-616.148, loss/critic=202.294, n/ep=0, n/st=1, rew=43379.03]\n",
      "Epoch #4:   0%| | 13/10000 [00:00<01:57, 85.13it/s, env_step=30013, len=1614, loss/actor=-617.315, loss/critic=234.140,"
     ]
    },
    {
     "name": "stdout",
     "output_type": "stream",
     "text": [
      "Epoch #3: test_reward: 44054.273438 ± 0.000000, best_reward: 44054.273438 ± 0.000000 in #3\n"
     ]
    },
    {
     "name": "stderr",
     "output_type": "stream",
     "text": [
      "Epoch #4: 10001it [02:34, 64.93it/s, env_step=40000, len=1614, loss/actor=-804.012, loss/critic=305.962, n/ep=0, n/st=1, rew=44372.80]\n",
      "Epoch #5:   0%| | 11/10000 [00:00<02:06, 78.97it/s, env_step=40011, len=1614, loss/actor=-804.315, loss/critic=359.564,"
     ]
    },
    {
     "name": "stdout",
     "output_type": "stream",
     "text": [
      "Epoch #4: test_reward: 46337.648438 ± 0.000000, best_reward: 46337.648438 ± 0.000000 in #4\n"
     ]
    },
    {
     "name": "stderr",
     "output_type": "stream",
     "text": [
      "Epoch #5: 10001it [02:19, 71.88it/s, env_step=50000, len=1614, loss/actor=-980.072, loss/critic=578.034, n/ep=0, n/st=1, rew=45069.06]\n",
      "Epoch #6:   0%| | 13/10000 [00:00<01:52, 88.57it/s, env_step=50013, len=1614, loss/actor=-980.833, loss/critic=609.943,"
     ]
    },
    {
     "name": "stdout",
     "output_type": "stream",
     "text": [
      "Epoch #5: test_reward: 45442.128906 ± 0.000000, best_reward: 46337.648438 ± 0.000000 in #4\n"
     ]
    },
    {
     "name": "stderr",
     "output_type": "stream",
     "text": [
      "Epoch #6: 10001it [02:19, 71.90it/s, env_step=60000, len=1614, loss/actor=-1147.558, loss/critic=666.832, n/ep=0, n/st=1, rew=45783.32]\n",
      "Epoch #7:   0%| | 14/10000 [00:00<01:49, 91.13it/s, env_step=60014, len=1614, loss/actor=-1147.238, loss/critic=740.023"
     ]
    },
    {
     "name": "stdout",
     "output_type": "stream",
     "text": [
      "Epoch #6: test_reward: 45923.070312 ± 0.000000, best_reward: 46337.648438 ± 0.000000 in #4\n"
     ]
    },
    {
     "name": "stderr",
     "output_type": "stream",
     "text": [
      "Epoch #7: 10001it [02:14, 74.21it/s, env_step=70000, len=1614, loss/actor=-1297.860, loss/critic=1243.384, n/ep=0, n/st=1, rew=45617.04]\n",
      "Epoch #8:   0%| | 14/10000 [00:00<01:56, 85.99it/s, env_step=70014, len=1614, loss/actor=-1296.487, loss/critic=1162.58"
     ]
    },
    {
     "name": "stdout",
     "output_type": "stream",
     "text": [
      "Epoch #7: test_reward: 45793.753906 ± 0.000000, best_reward: 46337.648438 ± 0.000000 in #4\n"
     ]
    },
    {
     "name": "stderr",
     "output_type": "stream",
     "text": [
      "Epoch #8: 10001it [02:17, 72.87it/s, env_step=80000, len=1614, loss/actor=-1441.394, loss/critic=1594.239, n/ep=0, n/st=1, rew=45726.77]\n",
      "Epoch #9:   0%| | 13/10000 [00:00<01:56, 86.05it/s, env_step=80013, len=1614, loss/actor=-1442.940, loss/critic=1677.39"
     ]
    },
    {
     "name": "stdout",
     "output_type": "stream",
     "text": [
      "Epoch #8: test_reward: 45980.355469 ± 0.000000, best_reward: 46337.648438 ± 0.000000 in #4\n"
     ]
    },
    {
     "name": "stderr",
     "output_type": "stream",
     "text": [
      "Epoch #9: 10001it [02:18, 72.15it/s, env_step=90000, len=1614, loss/actor=-1586.963, loss/critic=1846.996, n/ep=0, n/st=1, rew=45723.01]\n",
      "Epoch #10:   0%| | 12/10000 [00:00<02:08, 77.85it/s, env_step=90012, len=1614, loss/actor=-1586.783, loss/critic=1845.1"
     ]
    },
    {
     "name": "stdout",
     "output_type": "stream",
     "text": [
      "Epoch #9: test_reward: 45954.214844 ± 0.000000, best_reward: 46337.648438 ± 0.000000 in #4\n"
     ]
    },
    {
     "name": "stderr",
     "output_type": "stream",
     "text": [
      "Epoch #10: 10001it [02:18, 72.32it/s, env_step=100000, len=1614, loss/actor=-1745.678, loss/critic=1130.187, n/ep=0, n/st=1, rew=45757.05]\n",
      "Epoch #11:   0%| | 12/10000 [00:00<02:06, 78.99it/s, env_step=100012, len=1614, loss/actor=-1745.609, loss/critic=1258."
     ]
    },
    {
     "name": "stdout",
     "output_type": "stream",
     "text": [
      "Epoch #10: test_reward: 46062.062500 ± 0.000000, best_reward: 46337.648438 ± 0.000000 in #4\n"
     ]
    },
    {
     "name": "stderr",
     "output_type": "stream",
     "text": [
      "Epoch #11: 10001it [02:34, 64.62it/s, env_step=110000, len=1614, loss/actor=-1879.185, loss/critic=2571.417, n/ep=0, n/st=1, rew=45912.95]\n",
      "Epoch #12:   0%| | 12/10000 [00:00<02:16, 73.16it/s, env_step=110012, len=1614, loss/actor=-1879.532, loss/critic=2385."
     ]
    },
    {
     "name": "stdout",
     "output_type": "stream",
     "text": [
      "Epoch #11: test_reward: 45363.378906 ± 0.000000, best_reward: 46337.648438 ± 0.000000 in #4\n"
     ]
    },
    {
     "name": "stderr",
     "output_type": "stream",
     "text": [
      "Epoch #12: 10001it [02:55, 56.97it/s, env_step=120000, len=1614, loss/actor=-1981.571, loss/critic=3877.673, n/ep=0, n/st=1, rew=44728.08]\n",
      "Epoch #13:   0%| | 11/10000 [00:00<02:25, 68.56it/s, env_step=120011, len=1614, loss/actor=-1981.974, loss/critic=3566."
     ]
    },
    {
     "name": "stdout",
     "output_type": "stream",
     "text": [
      "Epoch #12: test_reward: 45041.894531 ± 0.000000, best_reward: 46337.648438 ± 0.000000 in #4\n"
     ]
    },
    {
     "name": "stderr",
     "output_type": "stream",
     "text": [
      "Epoch #13: 10001it [02:34, 64.55it/s, env_step=130000, len=1614, loss/actor=-2058.547, loss/critic=3199.442, n/ep=0, n/st=1, rew=44201.76]\n",
      "Epoch #14:   0%| | 13/10000 [00:00<02:10, 76.39it/s, env_step=130013, len=1614, loss/actor=-2058.826, loss/critic=3029."
     ]
    },
    {
     "name": "stdout",
     "output_type": "stream",
     "text": [
      "Epoch #13: test_reward: 44846.179688 ± 0.000000, best_reward: 46337.648438 ± 0.000000 in #4\n"
     ]
    },
    {
     "name": "stderr",
     "output_type": "stream",
     "text": [
      "Epoch #14: 10001it [03:05, 53.81it/s, env_step=140000, len=846, loss/actor=-2124.714, loss/critic=2874.476, n/ep=0, n/st=1, rew=21008.17]\n",
      "Epoch #15:   0%| | 11/10000 [00:00<02:23, 69.75it/s, env_step=140011, len=846, loss/actor=-2124.550, loss/critic=2514.1"
     ]
    },
    {
     "name": "stdout",
     "output_type": "stream",
     "text": [
      "Epoch #14: test_reward: 44016.648438 ± 0.000000, best_reward: 46337.648438 ± 0.000000 in #4\n"
     ]
    },
    {
     "name": "stderr",
     "output_type": "stream",
     "text": [
      "Epoch #15: 10001it [02:37, 63.62it/s, env_step=150000, len=1614, loss/actor=-2186.550, loss/critic=2842.331, n/ep=0, n/st=1, rew=44000.29]\n"
     ]
    },
    {
     "name": "stdout",
     "output_type": "stream",
     "text": [
      "Epoch #15: test_reward: 44594.160156 ± 0.000000, best_reward: 46337.648438 ± 0.000000 in #4\n"
     ]
    }
   ],
   "source": [
    "\n",
    "resume_path = None\n",
    "\n",
    "seed = 1\n",
    "actor_lr = 1e-4\n",
    "critic_lr = 1e-3\n",
    "tau = .001\n",
    "gamma = .99\n",
    "exploration_noise = .15\n",
    "buffer_size = 100000\n",
    "batch_size = 256\n",
    "\n",
    "# seed\n",
    "np.random.seed(seed)\n",
    "torch.manual_seed(seed)\n",
    "train_envs.seed(seed)\n",
    "test_envs.seed(seed)\n",
    "\n",
    "# model\n",
    "net_a = Net(state_shape, hidden_sizes=[256, 256], device='cuda')\n",
    "actor = Actor(net_a, action_shape, device='cuda').to('cuda')\n",
    "actor_optim = torch.optim.Adam(actor.parameters(), lr=actor_lr)\n",
    "\n",
    "net_c = Net(state_shape, action_shape,\n",
    "            hidden_sizes=[256, 256],\n",
    "            concat=True, device='cuda')\n",
    "critic = Critic(net_c, device='cuda').to('cuda')\n",
    "critic_optim = torch.optim.Adam(critic.parameters(), lr=critic_lr)\n",
    "\n",
    "policy = DDPGPolicy(\n",
    "    actor, actor_optim, critic, critic_optim,\n",
    "    tau=tau, gamma=gamma,\n",
    "    exploration_noise=GaussianNoise(sigma=exploration_noise),\n",
    "    estimation_step=1, action_space=action_shape)\n",
    "\n",
    "# load a previous policy\n",
    "if resume_path:\n",
    "    policy.load_state_dict(torch.load(resume_path, map_location='cuda'))\n",
    "    print(\"Loaded agent from: \", resume_path)\n",
    "\n",
    "# collector\n",
    "\n",
    "buffer = ReplayBuffer(buffer_size)\n",
    "train_collector = Collector(policy, train_envs, buffer, exploration_noise=True)\n",
    "test_collector = Collector(policy, test_envs)\n",
    "train_collector.collect(n_step=buffer_size // 4, random=True)\n",
    "\n",
    "# log\n",
    "t0 = datetime.datetime.now().strftime(\"%m%d_%H%M%S\")\n",
    "log_file = f'seed_{seed}_{t0}_ddpg'\n",
    "log_path = os.path.join('log', 'ddpg')\n",
    "\n",
    "def save_fn(policy):\n",
    "    torch.save(policy.state_dict(), os.path.join(log_path, log_file + '_policy.pth'))\n",
    "    \n",
    "# trainer\n",
    "result = offpolicy_trainer(\n",
    "    policy, train_collector, test_collector, max_epoch=15,\n",
    "    step_per_epoch=10000, step_per_collect=1, episode_per_test= 1,\n",
    "    batch_size=batch_size, save_fn=save_fn,\n",
    "    update_per_step=1, test_in_train=False)\n",
    "\n",
    "# Let's watch its performance!\n",
    "# print('\\n start testing')\n",
    "# policy.eval()\n",
    "# test_envs.seed(seed)\n",
    "# test_collector.reset()\n",
    "# result = test_collector.collect(n_episode=1)\n",
    "# print(f'Final reward: {result[\"rews\"].mean()}, length: {result[\"lens\"].mean()}')\n",
    "\n",
    "#save policy\n",
    "# torch.save(policy.state_dict(), os.path.join(log_path, log_file + '_policy.pth'))"
   ]
  },
  {
   "cell_type": "code",
   "execution_count": 4,
   "metadata": {},
   "outputs": [],
   "source": [
    "def get_reward(acceleration, newSpacing, follower_speed, leader_speed):\n",
    "    newTimeGap = newSpacing / (follower_speed + .001)\n",
    "    expected_speed = 33.5\n",
    "    expected_time_gap = 1\n",
    "    alpha = 1\n",
    "    beta = 1\n",
    "    gamma = 1\n",
    "    delta = 4\n",
    "    reward = 0\n",
    "    \n",
    "    # time headway\n",
    "    penalty1 = [[0]]\n",
    "    if expected_time_gap > newTimeGap > 0:\n",
    "        penalty1 = - alpha * (100 - 100 * np.sqrt(max(0, expected_time_gap-(expected_time_gap-newTimeGap)**2)))\n",
    "        reward += penalty1\n",
    "\n",
    "    # speed reward\n",
    "    reward2 = beta * min(expected_speed, follower_speed)\n",
    "    reward += reward2\n",
    "\n",
    "    #speed diff reward\n",
    "    reward3 = [[0]]\n",
    "    if newTimeGap < expected_time_gap and leader_speed > follower_speed:\n",
    "        reward3 = gamma * (leader_speed - follower_speed) * (expected_time_gap - newTimeGap)\n",
    "        reward += reward3\n",
    "        \n",
    "    penalty4 = - delta * acceleration ** 2\n",
    "    reward += penalty4\n",
    "\n",
    "    return reward, penalty1, reward2, reward3, penalty4"
   ]
  },
  {
   "cell_type": "code",
   "execution_count": 5,
   "metadata": {
    "scrolled": true
   },
   "outputs": [
    {
     "name": "stdout",
     "output_type": "stream",
     "text": [
      "Loaded agent from:  seed_1_0508_170045_ddpg\n"
     ]
    }
   ],
   "source": [
    "policy.load_state_dict(torch.load(os.getcwd() + '\\\\' + os.path.join(log_path, log_file + '_policy.pth'), \n",
    "                                  map_location='cuda'))\n",
    "print(\"Loaded agent from: \", log_file)\n",
    "policy.eval()\n",
    "rewardHist = [[np.nan] * 4]\n",
    "\n",
    "from CF_env import vehicle\n",
    "SIM_RESOLUTION = .1\n",
    "USED_HISTORY_STAMP  = 1\n",
    "leadSpeedProfile = np.genfromtxt('test_leader.csv', delimiter=',')\n",
    "leaderLoc = [0]\n",
    "followerLoc = [-30]\n",
    "for v in leadSpeedProfile[1:USED_HISTORY_STAMP]:\n",
    "    leaderLoc.append(leaderLoc[-1] + v * SIM_RESOLUTION)\n",
    "    followerLoc.append(followerLoc[-1] + v * SIM_RESOLUTION)\n",
    "follower = vehicle(leadSpeedProfile[:USED_HISTORY_STAMP], followerLoc)\n",
    "leader = vehicle(leadSpeedProfile[:USED_HISTORY_STAMP], leaderLoc)\n",
    "followerSpeedProfile = leadSpeedProfile[:USED_HISTORY_STAMP]\n",
    "followerSpacing = np.array([30] * USED_HISTORY_STAMP)\n",
    "observation = np.concatenate((leader.speedT, follower.speedT,\n",
    "                          [leader.locT[i] - follower.locT[i] for i in range(USED_HISTORY_STAMP)]))\n",
    "\n",
    "t = USED_HISTORY_STAMP\n",
    "while True:\n",
    "    with torch.no_grad():  \n",
    "        obs = np.array([observation])\n",
    "        result = policy.actor(obs)\n",
    "    act = to_numpy(result[0])\n",
    "    action = policy.map_action(act)\n",
    "    \n",
    "    follower.action_a(action)\n",
    "    leader.action_v(leadSpeedProfile[t])\n",
    "    newSpacing = leader.location - follower.location\n",
    "    newStates = np.concatenate((leader.speedT, follower.speedT,\n",
    "                          [leader.locT[i] - follower.locT[i] for i in range(USED_HISTORY_STAMP)]))\n",
    "    followerSpeedProfile = np.append(followerSpeedProfile, [follower.speed])\n",
    "    followerSpacing = np.append(followerSpacing, newSpacing)\n",
    "    reward, penalty1, reward2, reward3, penalty4 = get_reward(action, \n",
    "                                                              newSpacing, \n",
    "                                                              follower.speed, \n",
    "                                                              leader.speed)\n",
    "    rewardHist.append([i[0][0] for i in [penalty1, reward2, reward3, penalty4]])\n",
    "    #current obs\n",
    "    t += 1\n",
    "    observation = newStates\n",
    "    if newSpacing < 0 or t >= len(leadSpeedProfile):\n",
    "        done = 1\n",
    "    else:\n",
    "        done = 0\n",
    "        \n",
    "    if done:\n",
    "        break\n",
    "\n",
    "\n"
   ]
  },
  {
   "cell_type": "code",
   "execution_count": 6,
   "metadata": {},
   "outputs": [
    {
     "ename": "ValueError",
     "evalue": "x and y must have same first dimension, but have shapes (2828,) and (2256,)",
     "output_type": "error",
     "traceback": [
      "\u001b[1;31m---------------------------------------------------------------------------\u001b[0m",
      "\u001b[1;31mValueError\u001b[0m                                Traceback (most recent call last)",
      "\u001b[1;32m<ipython-input-6-8672293ab512>\u001b[0m in \u001b[0;36m<module>\u001b[1;34m\u001b[0m\n\u001b[0;32m      1\u001b[0m \u001b[0mplt\u001b[0m\u001b[1;33m.\u001b[0m\u001b[0mfigure\u001b[0m\u001b[1;33m(\u001b[0m\u001b[0mfigsize\u001b[0m \u001b[1;33m=\u001b[0m \u001b[1;33m(\u001b[0m\u001b[1;36m10\u001b[0m\u001b[1;33m,\u001b[0m \u001b[1;36m3\u001b[0m\u001b[1;33m)\u001b[0m\u001b[1;33m)\u001b[0m\u001b[1;33m\u001b[0m\u001b[1;33m\u001b[0m\u001b[0m\n\u001b[0;32m      2\u001b[0m \u001b[0mplt\u001b[0m\u001b[1;33m.\u001b[0m\u001b[0mplot\u001b[0m\u001b[1;33m(\u001b[0m\u001b[0mnp\u001b[0m\u001b[1;33m.\u001b[0m\u001b[0marange\u001b[0m\u001b[1;33m(\u001b[0m\u001b[0mlen\u001b[0m\u001b[1;33m(\u001b[0m\u001b[0mleadSpeedProfile\u001b[0m\u001b[1;33m)\u001b[0m\u001b[1;33m)\u001b[0m \u001b[1;33m/\u001b[0m \u001b[1;36m10\u001b[0m\u001b[1;33m,\u001b[0m \u001b[0mleadSpeedProfile\u001b[0m\u001b[1;33m,\u001b[0m \u001b[0mlabel\u001b[0m \u001b[1;33m=\u001b[0m \u001b[1;34m'leader'\u001b[0m\u001b[1;33m)\u001b[0m\u001b[1;33m\u001b[0m\u001b[1;33m\u001b[0m\u001b[0m\n\u001b[1;32m----> 3\u001b[1;33m \u001b[0mplt\u001b[0m\u001b[1;33m.\u001b[0m\u001b[0mplot\u001b[0m\u001b[1;33m(\u001b[0m\u001b[0mnp\u001b[0m\u001b[1;33m.\u001b[0m\u001b[0marange\u001b[0m\u001b[1;33m(\u001b[0m\u001b[0mlen\u001b[0m\u001b[1;33m(\u001b[0m\u001b[0mleadSpeedProfile\u001b[0m\u001b[1;33m)\u001b[0m\u001b[1;33m)\u001b[0m \u001b[1;33m/\u001b[0m \u001b[1;36m10\u001b[0m\u001b[1;33m,\u001b[0m \u001b[0mfollowerSpeedProfile\u001b[0m\u001b[1;33m,\u001b[0m \u001b[0mlabel\u001b[0m \u001b[1;33m=\u001b[0m \u001b[1;34m'follower'\u001b[0m\u001b[1;33m)\u001b[0m\u001b[1;33m\u001b[0m\u001b[1;33m\u001b[0m\u001b[0m\n\u001b[0m\u001b[0;32m      4\u001b[0m \u001b[0mplt\u001b[0m\u001b[1;33m.\u001b[0m\u001b[0mxlabel\u001b[0m\u001b[1;33m(\u001b[0m\u001b[1;34m'time(s)'\u001b[0m\u001b[1;33m)\u001b[0m\u001b[1;33m\u001b[0m\u001b[1;33m\u001b[0m\u001b[0m\n\u001b[0;32m      5\u001b[0m \u001b[0mplt\u001b[0m\u001b[1;33m.\u001b[0m\u001b[0mylabel\u001b[0m\u001b[1;33m(\u001b[0m\u001b[1;34m'speed(m/s)'\u001b[0m\u001b[1;33m)\u001b[0m\u001b[1;33m\u001b[0m\u001b[1;33m\u001b[0m\u001b[0m\n",
      "\u001b[1;32mc:\\program files\\python37\\lib\\site-packages\\matplotlib\\pyplot.py\u001b[0m in \u001b[0;36mplot\u001b[1;34m(scalex, scaley, data, *args, **kwargs)\u001b[0m\n\u001b[0;32m   2824\u001b[0m     return gca().plot(\n\u001b[0;32m   2825\u001b[0m         \u001b[1;33m*\u001b[0m\u001b[0margs\u001b[0m\u001b[1;33m,\u001b[0m \u001b[0mscalex\u001b[0m\u001b[1;33m=\u001b[0m\u001b[0mscalex\u001b[0m\u001b[1;33m,\u001b[0m \u001b[0mscaley\u001b[0m\u001b[1;33m=\u001b[0m\u001b[0mscaley\u001b[0m\u001b[1;33m,\u001b[0m\u001b[1;33m\u001b[0m\u001b[1;33m\u001b[0m\u001b[0m\n\u001b[1;32m-> 2826\u001b[1;33m         **({\"data\": data} if data is not None else {}), **kwargs)\n\u001b[0m\u001b[0;32m   2827\u001b[0m \u001b[1;33m\u001b[0m\u001b[0m\n\u001b[0;32m   2828\u001b[0m \u001b[1;33m\u001b[0m\u001b[0m\n",
      "\u001b[1;32mc:\\program files\\python37\\lib\\site-packages\\matplotlib\\axes\\_axes.py\u001b[0m in \u001b[0;36mplot\u001b[1;34m(self, scalex, scaley, data, *args, **kwargs)\u001b[0m\n\u001b[0;32m   1741\u001b[0m         \"\"\"\n\u001b[0;32m   1742\u001b[0m         \u001b[0mkwargs\u001b[0m \u001b[1;33m=\u001b[0m \u001b[0mcbook\u001b[0m\u001b[1;33m.\u001b[0m\u001b[0mnormalize_kwargs\u001b[0m\u001b[1;33m(\u001b[0m\u001b[0mkwargs\u001b[0m\u001b[1;33m,\u001b[0m \u001b[0mmlines\u001b[0m\u001b[1;33m.\u001b[0m\u001b[0mLine2D\u001b[0m\u001b[1;33m)\u001b[0m\u001b[1;33m\u001b[0m\u001b[1;33m\u001b[0m\u001b[0m\n\u001b[1;32m-> 1743\u001b[1;33m         \u001b[0mlines\u001b[0m \u001b[1;33m=\u001b[0m \u001b[1;33m[\u001b[0m\u001b[1;33m*\u001b[0m\u001b[0mself\u001b[0m\u001b[1;33m.\u001b[0m\u001b[0m_get_lines\u001b[0m\u001b[1;33m(\u001b[0m\u001b[1;33m*\u001b[0m\u001b[0margs\u001b[0m\u001b[1;33m,\u001b[0m \u001b[0mdata\u001b[0m\u001b[1;33m=\u001b[0m\u001b[0mdata\u001b[0m\u001b[1;33m,\u001b[0m \u001b[1;33m**\u001b[0m\u001b[0mkwargs\u001b[0m\u001b[1;33m)\u001b[0m\u001b[1;33m]\u001b[0m\u001b[1;33m\u001b[0m\u001b[1;33m\u001b[0m\u001b[0m\n\u001b[0m\u001b[0;32m   1744\u001b[0m         \u001b[1;32mfor\u001b[0m \u001b[0mline\u001b[0m \u001b[1;32min\u001b[0m \u001b[0mlines\u001b[0m\u001b[1;33m:\u001b[0m\u001b[1;33m\u001b[0m\u001b[1;33m\u001b[0m\u001b[0m\n\u001b[0;32m   1745\u001b[0m             \u001b[0mself\u001b[0m\u001b[1;33m.\u001b[0m\u001b[0madd_line\u001b[0m\u001b[1;33m(\u001b[0m\u001b[0mline\u001b[0m\u001b[1;33m)\u001b[0m\u001b[1;33m\u001b[0m\u001b[1;33m\u001b[0m\u001b[0m\n",
      "\u001b[1;32mc:\\program files\\python37\\lib\\site-packages\\matplotlib\\axes\\_base.py\u001b[0m in \u001b[0;36m__call__\u001b[1;34m(self, data, *args, **kwargs)\u001b[0m\n\u001b[0;32m    271\u001b[0m                 \u001b[0mthis\u001b[0m \u001b[1;33m+=\u001b[0m \u001b[0margs\u001b[0m\u001b[1;33m[\u001b[0m\u001b[1;36m0\u001b[0m\u001b[1;33m]\u001b[0m\u001b[1;33m,\u001b[0m\u001b[1;33m\u001b[0m\u001b[1;33m\u001b[0m\u001b[0m\n\u001b[0;32m    272\u001b[0m                 \u001b[0margs\u001b[0m \u001b[1;33m=\u001b[0m \u001b[0margs\u001b[0m\u001b[1;33m[\u001b[0m\u001b[1;36m1\u001b[0m\u001b[1;33m:\u001b[0m\u001b[1;33m]\u001b[0m\u001b[1;33m\u001b[0m\u001b[1;33m\u001b[0m\u001b[0m\n\u001b[1;32m--> 273\u001b[1;33m             \u001b[1;32myield\u001b[0m \u001b[1;32mfrom\u001b[0m \u001b[0mself\u001b[0m\u001b[1;33m.\u001b[0m\u001b[0m_plot_args\u001b[0m\u001b[1;33m(\u001b[0m\u001b[0mthis\u001b[0m\u001b[1;33m,\u001b[0m \u001b[0mkwargs\u001b[0m\u001b[1;33m)\u001b[0m\u001b[1;33m\u001b[0m\u001b[1;33m\u001b[0m\u001b[0m\n\u001b[0m\u001b[0;32m    274\u001b[0m \u001b[1;33m\u001b[0m\u001b[0m\n\u001b[0;32m    275\u001b[0m     \u001b[1;32mdef\u001b[0m \u001b[0mget_next_color\u001b[0m\u001b[1;33m(\u001b[0m\u001b[0mself\u001b[0m\u001b[1;33m)\u001b[0m\u001b[1;33m:\u001b[0m\u001b[1;33m\u001b[0m\u001b[1;33m\u001b[0m\u001b[0m\n",
      "\u001b[1;32mc:\\program files\\python37\\lib\\site-packages\\matplotlib\\axes\\_base.py\u001b[0m in \u001b[0;36m_plot_args\u001b[1;34m(self, tup, kwargs)\u001b[0m\n\u001b[0;32m    397\u001b[0m \u001b[1;33m\u001b[0m\u001b[0m\n\u001b[0;32m    398\u001b[0m         \u001b[1;32mif\u001b[0m \u001b[0mx\u001b[0m\u001b[1;33m.\u001b[0m\u001b[0mshape\u001b[0m\u001b[1;33m[\u001b[0m\u001b[1;36m0\u001b[0m\u001b[1;33m]\u001b[0m \u001b[1;33m!=\u001b[0m \u001b[0my\u001b[0m\u001b[1;33m.\u001b[0m\u001b[0mshape\u001b[0m\u001b[1;33m[\u001b[0m\u001b[1;36m0\u001b[0m\u001b[1;33m]\u001b[0m\u001b[1;33m:\u001b[0m\u001b[1;33m\u001b[0m\u001b[1;33m\u001b[0m\u001b[0m\n\u001b[1;32m--> 399\u001b[1;33m             raise ValueError(f\"x and y must have same first dimension, but \"\n\u001b[0m\u001b[0;32m    400\u001b[0m                              f\"have shapes {x.shape} and {y.shape}\")\n\u001b[0;32m    401\u001b[0m         \u001b[1;32mif\u001b[0m \u001b[0mx\u001b[0m\u001b[1;33m.\u001b[0m\u001b[0mndim\u001b[0m \u001b[1;33m>\u001b[0m \u001b[1;36m2\u001b[0m \u001b[1;32mor\u001b[0m \u001b[0my\u001b[0m\u001b[1;33m.\u001b[0m\u001b[0mndim\u001b[0m \u001b[1;33m>\u001b[0m \u001b[1;36m2\u001b[0m\u001b[1;33m:\u001b[0m\u001b[1;33m\u001b[0m\u001b[1;33m\u001b[0m\u001b[0m\n",
      "\u001b[1;31mValueError\u001b[0m: x and y must have same first dimension, but have shapes (2828,) and (2256,)"
     ]
    },
    {
     "data": {
      "image/png": "[encoded data removed]",
      "text/plain": [
       "<Figure size 720x216 with 1 Axes>"
      ]
     },
     "metadata": {
      "needs_background": "light"
     },
     "output_type": "display_data"
    }
   ],
   "source": [
    "\n",
    "plt.figure(figsize = (10, 3))\n",
    "plt.plot(np.arange(len(leadSpeedProfile)) / 10, leadSpeedProfile, label = 'leader')\n",
    "plt.plot(np.arange(len(leadSpeedProfile)) / 10, followerSpeedProfile, label = 'follower')\n",
    "plt.xlabel('time(s)')\n",
    "plt.ylabel('speed(m/s)')\n",
    "# plt.ylim(22.5, 32.5)\n",
    "plt.grid(True)\n",
    "plt.legend()\n",
    "plt.show()\n",
    "\n",
    "plt.figure(figsize = (10, 3))\n",
    "plt.plot(np.arange(len(leadSpeedProfile)) / 10, followerSpacing)\n",
    "plt.xlabel('time(s)')\n",
    "plt.ylabel('spacing(m)')\n",
    "plt.grid(True)\n",
    "# plt.ylim(20, 45)\n",
    "\n",
    "plt.show()\n",
    "\n"
   ]
  },
  {
   "cell_type": "code",
   "execution_count": null,
   "metadata": {},
   "outputs": [],
   "source": [
    "print(round(min(followerSpeedProfile[:1000]),2), round(min(followerSpeedProfile[1000:]),2))"
   ]
  },
  {
   "cell_type": "code",
   "execution_count": null,
   "metadata": {},
   "outputs": [],
   "source": [
    "file = open(os.path.join(log_path, log_file + 'trajInfo'), 'wb')\n",
    "pickle.dump([leadSpeedProfile, followerSpeedProfile, followerSpacing], file)\n",
    "file.close()"
   ]
  }
 ],
 "metadata": {
  "kernelspec": {
   "display_name": "Python 3",
   "language": "python",
   "name": "python3"
  },
  "language_info": {
   "codemirror_mode": {
    "name": "ipython",
    "version": 3
   },
   "file_extension": ".py",
   "mimetype": "text/x-python",
   "name": "python",
   "nbconvert_exporter": "python",
   "pygments_lexer": "ipython3",
   "version": "3.7.2"
  },
  "varInspector": {
   "cols": {
    "lenName": 16,
    "lenType": 16,
    "lenVar": 40
   },
   "kernels_config": {
    "python": {
     "delete_cmd_postfix": "",
     "delete_cmd_prefix": "del ",
     "library": "var_list.py",
     "varRefreshCmd": "print(var_dic_list())"
    },
    "r": {
     "delete_cmd_postfix": ") ",
     "delete_cmd_prefix": "rm(",
     "library": "var_list.r",
     "varRefreshCmd": "cat(var_dic_list()) "
    }
   },
   "types_to_exclude": [
    "module",
    "function",
    "builtin_function_or_method",
    "instance",
    "_Feature"
   ],
   "window_display": false
  }
 },
 "nbformat": 4,
 "nbformat_minor": 4
}
