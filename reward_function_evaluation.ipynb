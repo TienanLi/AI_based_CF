{
 "cells": [
  {
   "cell_type": "code",
   "execution_count": 1,
   "metadata": {},
   "outputs": [],
   "source": [
    "import os\n",
    "import numpy as np\n",
    "\n",
    "from tianshou.policy import DDPGPolicy\n",
    "from tianshou.utils.net.common import Net\n",
    "from tianshou.exploration import GaussianNoise\n",
    "from tianshou.trainer import offpolicy_trainer\n",
    "from tianshou.utils.net.continuous import Actor, Critic\n",
    "from tianshou.data import Collector, ReplayBuffer, VectorReplayBuffer, to_numpy\n",
    "import torch\n",
    "import datetime\n",
    "import pickle\n",
    "import matplotlib.pyplot as plt\n",
    "\n"
   ]
  },
  {
   "cell_type": "code",
   "execution_count": 2,
   "metadata": {},
   "outputs": [
    {
     "name": "stdout",
     "output_type": "stream",
     "text": [
      "Observations shape: (3,)\n",
      "Actions shape: (1,)\n",
      "equilibrium_spacing_embedded\n"
     ]
    }
   ],
   "source": [
    "from CF_env import CFEnv\n",
    "\n",
    "usedRewardFunction = 'equilibrium_spacing_embedded'\n",
    "\n",
    "env = CFEnv(usedRewardFunction)\n",
    "train_envs = CFEnv(usedRewardFunction)\n",
    "test_envs = CFEnv(usedRewardFunction)\n",
    "\n",
    "\n",
    "state_shape = env.observation_space.shape \n",
    "action_shape = env.action_space.shape\n",
    "print(\"Observations shape:\", state_shape)\n",
    "print(\"Actions shape:\", action_shape)\n",
    "print(env.rewardName)"
   ]
  },
  {
   "cell_type": "code",
   "execution_count": 3,
   "metadata": {
    "scrolled": true
   },
   "outputs": [
    {
     "name": "stderr",
     "output_type": "stream",
     "text": [
      "\r",
      "Epoch #1:   0%|          | 0/10000 [00:00<?, ?it/s]"
     ]
    },
    {
     "name": "stdout",
     "output_type": "stream",
     "text": [
      "seed_1_0521_130402_ddpg\n"
     ]
    },
    {
     "name": "stderr",
     "output_type": "stream",
     "text": [
      "Epoch #1: 10001it [02:01, 82.35it/s, env_step=10000, len=1614, loss/actor=7068.350, loss/critic=339626.210, n/ep=0, n/st=1, rew=-3175281.31]                           \n",
      "Epoch #2:   0%|          | 15/10000 [00:00<01:57, 85.26it/s, env_step=10015, len=1614, loss/actor=7073.709, loss/critic=282124.476, n/ep=0, n/st=1, rew=-3175281.31]"
     ]
    },
    {
     "name": "stdout",
     "output_type": "stream",
     "text": [
      "Epoch #1: test_reward: -3167989.250000 ± 0.000000, best_reward: -1734.443604 ± 0.000000 in #0\n"
     ]
    },
    {
     "name": "stderr",
     "output_type": "stream",
     "text": [
      "Epoch #2: 10001it [02:01, 82.15it/s, env_step=20000, len=1614, loss/actor=18102.663, loss/critic=1735311.089, n/ep=0, n/st=1, rew=-3168210.75]                           \n",
      "Epoch #3:   0%|          | 16/10000 [00:00<01:49, 91.11it/s, env_step=20016, len=1614, loss/actor=18162.998, loss/critic=1715453.261, n/ep=0, n/st=1, rew=-3168210.75]"
     ]
    },
    {
     "name": "stdout",
     "output_type": "stream",
     "text": [
      "Epoch #2: test_reward: -3167989.250000 ± 0.000000, best_reward: -1734.443604 ± 0.000000 in #0\n"
     ]
    },
    {
     "name": "stderr",
     "output_type": "stream",
     "text": [
      "Epoch #3: 10001it [02:01, 82.36it/s, env_step=30000, len=78, loss/actor=24346.995, loss/critic=2258584.781, n/ep=0, n/st=1, rew=-1808.23]                               \n",
      "Epoch #4:   0%|          | 16/10000 [00:00<01:51, 89.60it/s, env_step=30016, len=78, loss/actor=24449.714, loss/critic=2666436.591, n/ep=0, n/st=1, rew=-1808.23]"
     ]
    },
    {
     "name": "stdout",
     "output_type": "stream",
     "text": [
      "Epoch #3: test_reward: -1734.888306 ± 0.000000, best_reward: -1734.443604 ± 0.000000 in #0\n"
     ]
    },
    {
     "name": "stderr",
     "output_type": "stream",
     "text": [
      "Epoch #4: 10001it [02:02, 81.89it/s, env_step=40000, len=80, loss/actor=25998.000, loss/critic=1322994.824, n/ep=0, n/st=1, rew=-2260.01]                           \n",
      "Epoch #5:   0%|          | 15/10000 [00:00<01:56, 85.75it/s, env_step=40015, len=80, loss/actor=26196.247, loss/critic=2447584.313, n/ep=0, n/st=1, rew=-2260.01]"
     ]
    },
    {
     "name": "stdout",
     "output_type": "stream",
     "text": [
      "Epoch #4: test_reward: -1828.383545 ± 0.000000, best_reward: -1734.443604 ± 0.000000 in #0\n"
     ]
    },
    {
     "name": "stderr",
     "output_type": "stream",
     "text": [
      "Epoch #5: 10001it [02:02, 81.52it/s, env_step=50000, len=82, loss/actor=27151.842, loss/critic=6496786.438, n/ep=0, n/st=1, rew=-1811.52]                           \n",
      "Epoch #6:   0%|          | 15/10000 [00:00<01:57, 85.07it/s, env_step=50015, len=82, loss/actor=27300.677, loss/critic=4097952.033, n/ep=0, n/st=1, rew=-1811.52]"
     ]
    },
    {
     "name": "stdout",
     "output_type": "stream",
     "text": [
      "Epoch #5: test_reward: -1553.031250 ± 0.000000, best_reward: -1553.031250 ± 0.000000 in #5\n"
     ]
    },
    {
     "name": "stderr",
     "output_type": "stream",
     "text": [
      "Epoch #6: 10001it [02:02, 81.57it/s, env_step=60000, len=79, loss/actor=27245.807, loss/critic=2450845.512, n/ep=0, n/st=1, rew=-1703.84]                           \n",
      "Epoch #7:   0%|          | 16/10000 [00:00<01:49, 91.45it/s, env_step=60016, len=79, loss/actor=27093.843, loss/critic=2454873.883, n/ep=0, n/st=1, rew=-1703.84]"
     ]
    },
    {
     "name": "stdout",
     "output_type": "stream",
     "text": [
      "Epoch #6: test_reward: -3435.876465 ± 0.000000, best_reward: -1553.031250 ± 0.000000 in #5\n"
     ]
    },
    {
     "name": "stderr",
     "output_type": "stream",
     "text": [
      "Epoch #7: 10001it [02:03, 80.89it/s, env_step=70000, len=79, loss/actor=26666.905, loss/critic=4725734.479, n/ep=0, n/st=1, rew=-1759.94]                           \n",
      "Epoch #8:   0%|          | 15/10000 [00:00<01:58, 84.29it/s, env_step=70015, len=79, loss/actor=26776.134, loss/critic=7785570.487, n/ep=0, n/st=1, rew=-1759.94]"
     ]
    },
    {
     "name": "stdout",
     "output_type": "stream",
     "text": [
      "Epoch #7: test_reward: -1710.113159 ± 0.000000, best_reward: -1553.031250 ± 0.000000 in #5\n"
     ]
    },
    {
     "name": "stderr",
     "output_type": "stream",
     "text": [
      "Epoch #8: 10001it [02:07, 78.73it/s, env_step=80000, len=79, loss/actor=26890.166, loss/critic=5212366.246, n/ep=0, n/st=1, rew=-1759.82]                           \n",
      "Epoch #9:   0%|          | 15/10000 [00:00<01:57, 84.91it/s, env_step=80015, len=79, loss/actor=26886.868, loss/critic=5296817.458, n/ep=0, n/st=1, rew=-1759.82]"
     ]
    },
    {
     "name": "stdout",
     "output_type": "stream",
     "text": [
      "Epoch #8: test_reward: -1730.285889 ± 0.000000, best_reward: -1553.031250 ± 0.000000 in #5\n"
     ]
    },
    {
     "name": "stderr",
     "output_type": "stream",
     "text": [
      "Epoch #9: 10001it [02:10, 76.77it/s, env_step=90000, len=78, loss/actor=27638.561, loss/critic=11687891.089, n/ep=0, n/st=1, rew=-2014.00]                           \n",
      "Epoch #10:   0%|          | 15/10000 [00:00<01:57, 85.34it/s, env_step=90015, len=78, loss/actor=27722.678, loss/critic=7885079.143, n/ep=0, n/st=1, rew=-2014.00]"
     ]
    },
    {
     "name": "stdout",
     "output_type": "stream",
     "text": [
      "Epoch #9: test_reward: -1720.854492 ± 0.000000, best_reward: -1553.031250 ± 0.000000 in #5\n"
     ]
    },
    {
     "name": "stderr",
     "output_type": "stream",
     "text": [
      "Epoch #10: 10001it [28:10,  5.92it/s, env_step=100000, len=80, loss/actor=27156.289, loss/critic=7952292.368, n/ep=0, n/st=1, rew=-2026.79]                            \n",
      "Epoch #11:   0%|          | 13/10000 [00:00<02:12, 75.37it/s, env_step=100013, len=80, loss/actor=27221.421, loss/critic=4336811.101, n/ep=0, n/st=1, rew=-2026.79]"
     ]
    },
    {
     "name": "stdout",
     "output_type": "stream",
     "text": [
      "Epoch #10: test_reward: -1042.434326 ± 0.000000, best_reward: -1042.434326 ± 0.000000 in #10\n"
     ]
    },
    {
     "name": "stderr",
     "output_type": "stream",
     "text": [
      "Epoch #11: 10001it [02:22, 70.03it/s, env_step=110000, len=76, loss/actor=17854.664, loss/critic=2351313.587, n/ep=0, n/st=1, rew=-1878.39]                           \n",
      "Epoch #12:   0%|          | 13/10000 [00:00<02:09, 77.28it/s, env_step=110013, len=76, loss/actor=17497.371, loss/critic=2359270.188, n/ep=0, n/st=1, rew=-1878.39]"
     ]
    },
    {
     "name": "stdout",
     "output_type": "stream",
     "text": [
      "Epoch #11: test_reward: -1734.888306 ± 0.000000, best_reward: -1042.434326 ± 0.000000 in #10\n"
     ]
    },
    {
     "name": "stderr",
     "output_type": "stream",
     "text": [
      "Epoch #12: 10001it [02:18, 72.34it/s, env_step=120000, len=78, loss/actor=5600.924, loss/critic=2588254.859, n/ep=0, n/st=1, rew=-1812.62]                            \n",
      "Epoch #13:   0%|          | 16/10000 [00:00<01:44, 95.61it/s, env_step=120016, len=78, loss/actor=5827.276, loss/critic=2588684.997, n/ep=0, n/st=1, rew=-1812.62]"
     ]
    },
    {
     "name": "stdout",
     "output_type": "stream",
     "text": [
      "Epoch #12: test_reward: -1734.888306 ± 0.000000, best_reward: -1042.434326 ± 0.000000 in #10\n"
     ]
    },
    {
     "name": "stderr",
     "output_type": "stream",
     "text": [
      "Epoch #13: 10001it [02:28, 67.29it/s, env_step=130000, len=98, loss/actor=820.155, loss/critic=1569.471, n/ep=0, n/st=1, rew=-2440.15]                              \n",
      "Epoch #14:   0%|          | 15/10000 [00:00<01:52, 88.81it/s, env_step=130015, len=98, loss/actor=820.090, loss/critic=1655.892, n/ep=0, n/st=1, rew=-2440.15]"
     ]
    },
    {
     "name": "stdout",
     "output_type": "stream",
     "text": [
      "Epoch #13: test_reward: -2633.139893 ± 0.000000, best_reward: -1042.434326 ± 0.000000 in #10\n"
     ]
    },
    {
     "name": "stderr",
     "output_type": "stream",
     "text": [
      "Epoch #14: 10001it [02:22, 70.00it/s, env_step=140000, len=80, loss/actor=831.757, loss/critic=210522.271, n/ep=0, n/st=1, rew=-1867.03]                           \n",
      "Epoch #15:   0%|          | 13/10000 [00:00<02:12, 75.14it/s, env_step=140013, len=80, loss/actor=831.820, loss/critic=210062.021, n/ep=0, n/st=1, rew=-1867.03]"
     ]
    },
    {
     "name": "stdout",
     "output_type": "stream",
     "text": [
      "Epoch #14: test_reward: -1705.349854 ± 0.000000, best_reward: -1042.434326 ± 0.000000 in #10\n"
     ]
    },
    {
     "name": "stderr",
     "output_type": "stream",
     "text": [
      "Epoch #15: 10001it [02:39, 62.78it/s, env_step=150000, len=78, loss/actor=841.669, loss/critic=872.329, n/ep=0, n/st=1, rew=-1636.60]                             \n"
     ]
    },
    {
     "name": "stdout",
     "output_type": "stream",
     "text": [
      "Epoch #15: test_reward: -1800.298584 ± 0.000000, best_reward: -1042.434326 ± 0.000000 in #10\n"
     ]
    }
   ],
   "source": [
    "\n",
    "resume_path = None\n",
    "\n",
    "seed = 1\n",
    "actor_lr = 1e-4\n",
    "critic_lr = 1e-3\n",
    "tau = .001\n",
    "gamma = .99\n",
    "exploration_noise = .15\n",
    "buffer_size = 100000\n",
    "batch_size = 256\n",
    "\n",
    "# seed\n",
    "np.random.seed(seed)\n",
    "torch.manual_seed(seed)\n",
    "train_envs.seed(seed)\n",
    "test_envs.seed(seed)\n",
    "\n",
    "# model\n",
    "net_a = Net(state_shape, hidden_sizes=[256, 256], device='cuda' if torch.cuda.is_available() else 'cpu')\n",
    "actor = Actor(net_a, action_shape, device='cuda' if torch.cuda.is_available() else 'cpu')\n",
    "if torch.cuda.is_available():\n",
    "    actor = actor.to('cuda')\n",
    "actor_optim = torch.optim.Adam(actor.parameters(), lr=actor_lr)\n",
    "\n",
    "net_c = Net(state_shape, action_shape,\n",
    "            hidden_sizes=[256, 256],\n",
    "            concat=True, device='cuda' if torch.cuda.is_available() else 'cpu')\n",
    "critic = Critic(net_c, device='cuda' if torch.cuda.is_available() else 'cpu')\n",
    "if torch.cuda.is_available():\n",
    "    critic = critic.to('cuda')\n",
    "critic_optim = torch.optim.Adam(critic.parameters(), lr=critic_lr)\n",
    "\n",
    "policy = DDPGPolicy(\n",
    "    actor, actor_optim, critic, critic_optim,\n",
    "    tau=tau, gamma=gamma,\n",
    "    exploration_noise=GaussianNoise(sigma=exploration_noise),\n",
    "    estimation_step=1, action_space=action_shape)\n",
    "\n",
    "# load a previous policy\n",
    "if resume_path:\n",
    "    policy.load_state_dict(torch.load(resume_path, map_location='cuda' if torch.cuda.is_available() else 'cpu'))\n",
    "    print(\"Loaded agent from: \", resume_path)\n",
    "\n",
    "# collector\n",
    "\n",
    "buffer = ReplayBuffer(buffer_size)\n",
    "train_collector = Collector(policy, train_envs, buffer, exploration_noise=True)\n",
    "test_collector = Collector(policy, test_envs)\n",
    "train_collector.collect(n_step=buffer_size // 4, random=True)\n",
    "\n",
    "# log\n",
    "t0 = datetime.datetime.now().strftime(\"%m%d_%H%M%S\")\n",
    "log_file = f'seed_{seed}_{t0}_ddpg'\n",
    "log_path = os.path.join('log', 'ddpg')\n",
    "if not os.path.exists(log_path):\n",
    "    os.makedirs(log_path)\n",
    "print(log_file)\n",
    "\n",
    "def save_fn(policy):\n",
    "    torch.save(policy.state_dict(), os.path.join(log_path, log_file + '_policy.pth'))\n",
    "    \n",
    "# trainer\n",
    "result = offpolicy_trainer(\n",
    "    policy, train_collector, test_collector, max_epoch=15,\n",
    "    step_per_epoch=10000, step_per_collect=1, episode_per_test= 1,\n",
    "    batch_size=batch_size, save_fn=save_fn,\n",
    "    update_per_step=1, test_in_train=False)\n",
    "\n",
    "# Let's watch its performance!\n",
    "# print('\\n start testing')\n",
    "# policy.eval()\n",
    "# test_envs.seed(seed)\n",
    "# test_collector.reset()\n",
    "# result = test_collector.collect(n_episode=1)\n",
    "# print(f'Final reward: {result[\"rews\"].mean()}, length: {result[\"lens\"].mean()}')\n",
    "\n",
    "#save policy\n",
    "# torch.save(policy.state_dict(), os.path.join(log_path, log_file + '_policy.pth'))"
   ]
  },
  {
   "cell_type": "code",
   "execution_count": 4,
   "metadata": {},
   "outputs": [],
   "source": [
    "# this is for plotting the dynamic of reward during evaluation (not plotting now for this version)\n",
    "# needs to be modified corresponding when the reward function in the training part is changed.\n",
    "# ideally this process should be automatic (to update)\n",
    "def get_reward(acceleration, newSpacing, follower_speed, leader_speed):\n",
    "    newTimeGap = newSpacing / (follower_speed + .001)\n",
    "    expected_speed = 33.5\n",
    "    expected_time_gap = 1\n",
    "    alpha = 1\n",
    "    beta = 1\n",
    "    gamma = 1\n",
    "    delta = 4\n",
    "    reward = 0\n",
    "    \n",
    "    # time headway\n",
    "    penalty1 = [[0]]\n",
    "    if expected_time_gap > newTimeGap > 0:\n",
    "        penalty1 = - alpha * (100 - 100 * np.sqrt(max(0, expected_time_gap-(expected_time_gap-newTimeGap)**2)))\n",
    "        reward += penalty1\n",
    "\n",
    "    # speed reward\n",
    "    reward2 = beta * min(expected_speed, follower_speed)\n",
    "    reward += reward2\n",
    "\n",
    "    #speed diff reward\n",
    "    reward3 = [[0]]\n",
    "    if newTimeGap < expected_time_gap and leader_speed > follower_speed:\n",
    "        reward3 = gamma * (leader_speed - follower_speed) * (expected_time_gap - newTimeGap)\n",
    "        reward += reward3\n",
    "        \n",
    "    penalty4 = - delta * acceleration ** 2\n",
    "    reward += penalty4\n",
    "\n",
    "    return reward, penalty1, reward2, reward3, penalty4"
   ]
  },
  {
   "cell_type": "code",
   "execution_count": 6,
   "metadata": {
    "scrolled": true
   },
   "outputs": [
    {
     "name": "stdout",
     "output_type": "stream",
     "text": [
      "Loaded agent from:  seed_1_0521_130402_ddpg\n"
     ]
    }
   ],
   "source": [
    "policy.load_state_dict(torch.load(os.path.join(os.getcwd(), log_path, log_file + '_policy.pth'), \n",
    "                                  map_location='cuda' if torch.cuda.is_available() else 'cpu'))\n",
    "print(\"Loaded agent from: \", log_file)\n",
    "policy.eval()\n",
    "rewardHist = [[np.nan] * 4]\n",
    "\n",
    "from CF_env import vehicle\n",
    "SIM_RESOLUTION = .1\n",
    "USED_HISTORY_STAMP  = 1\n",
    "leadSpeedProfile = np.genfromtxt('test_leader_high.csv', delimiter=',')\n",
    "leaderLoc = [0]\n",
    "followerLoc = [-30]\n",
    "for v in leadSpeedProfile[1:USED_HISTORY_STAMP]:\n",
    "    leaderLoc.append(leaderLoc[-1] + v * SIM_RESOLUTION)\n",
    "    followerLoc.append(followerLoc[-1] + v * SIM_RESOLUTION)\n",
    "follower = vehicle(leadSpeedProfile[:USED_HISTORY_STAMP], followerLoc)\n",
    "leader = vehicle(leadSpeedProfile[:USED_HISTORY_STAMP], leaderLoc)\n",
    "followerSpeedProfile = leadSpeedProfile[:USED_HISTORY_STAMP]\n",
    "followerSpacing = np.array([30] * USED_HISTORY_STAMP)\n",
    "observation = np.concatenate((leader.speedT, follower.speedT,\n",
    "                          [leader.locT[i] - follower.locT[i] for i in range(USED_HISTORY_STAMP)]))\n",
    "\n",
    "t = USED_HISTORY_STAMP\n",
    "while True:\n",
    "    with torch.no_grad():  \n",
    "        obs = np.array([observation])\n",
    "        result = policy.actor(obs)\n",
    "    act = to_numpy(result[0])\n",
    "    action = policy.map_action(act)\n",
    "    \n",
    "    follower.action_a(action)\n",
    "    leader.action_v(leadSpeedProfile[t])\n",
    "    newSpacing = leader.location - follower.location\n",
    "    newStates = np.concatenate((leader.speedT, follower.speedT,\n",
    "                          [leader.locT[i] - follower.locT[i] for i in range(USED_HISTORY_STAMP)]))\n",
    "    followerSpeedProfile = np.append(followerSpeedProfile, [follower.speed])\n",
    "    followerSpacing = np.append(followerSpacing, newSpacing)\n",
    "    reward, penalty1, reward2, reward3, penalty4 = get_reward(action, \n",
    "                                                              newSpacing, \n",
    "                                                              follower.speed, \n",
    "                                                              leader.speed)\n",
    "#     rewardHist.append([i[0][0] for i in [penalty1, reward2, reward3, penalty4]])\n",
    "    #current obs\n",
    "    t += 1\n",
    "    observation = newStates\n",
    "    if newSpacing < 0 or t >= len(leadSpeedProfile):\n",
    "        done = 1\n",
    "    else:\n",
    "        done = 0\n",
    "        \n",
    "    if done:\n",
    "        break\n",
    "\n",
    "\n"
   ]
  },
  {
   "cell_type": "code",
   "execution_count": 7,
   "metadata": {},
   "outputs": [
    {
     "data": {
      "image/png": "[encoded data removed]",
      "text/plain": [
       "<Figure size 720x216 with 1 Axes>"
      ]
     },
     "metadata": {
      "needs_background": "light"
     },
     "output_type": "display_data"
    },
    {
     "data": {
      "image/png": "[encoded data removed]",
      "text/plain": [
       "<Figure size 720x216 with 1 Axes>"
      ]
     },
     "metadata": {
      "needs_background": "light"
     },
     "output_type": "display_data"
    }
   ],
   "source": [
    "\n",
    "plt.figure(figsize = (10, 3))\n",
    "plt.plot(np.arange(len(leadSpeedProfile)) / 10, leadSpeedProfile, label = 'leader')\n",
    "plt.plot(np.arange(len(followerSpeedProfile)) / 10, followerSpeedProfile, label = 'follower')\n",
    "plt.xlabel('time(s)')\n",
    "plt.ylabel('speed(m/s)')\n",
    "# plt.ylim(22.5, 32.5)\n",
    "plt.grid(True)\n",
    "plt.legend()\n",
    "plt.show()\n",
    "\n",
    "plt.figure(figsize = (10, 3))\n",
    "plt.plot(np.arange(len(followerSpeedProfile)) / 10, followerSpacing)\n",
    "plt.xlabel('time(s)')\n",
    "plt.ylabel('spacing(m)')\n",
    "plt.grid(True)\n",
    "# plt.ylim(20, 45)\n",
    "\n",
    "plt.show()\n",
    "\n"
   ]
  },
  {
   "cell_type": "code",
   "execution_count": 8,
   "metadata": {},
   "outputs": [
    {
     "ename": "ValueError",
     "evalue": "min() arg is an empty sequence",
     "output_type": "error",
     "traceback": [
      "\u001b[0;31m---------------------------------------------------------------------------\u001b[0m",
      "\u001b[0;31mValueError\u001b[0m                                Traceback (most recent call last)",
      "\u001b[0;32m<ipython-input-8-ebfa902212ab>\u001b[0m in \u001b[0;36m<module>\u001b[0;34m\u001b[0m\n\u001b[0;32m----> 1\u001b[0;31m \u001b[0mprint\u001b[0m\u001b[0;34m(\u001b[0m\u001b[0mround\u001b[0m\u001b[0;34m(\u001b[0m\u001b[0mmin\u001b[0m\u001b[0;34m(\u001b[0m\u001b[0mfollowerSpeedProfile\u001b[0m\u001b[0;34m[\u001b[0m\u001b[0;34m:\u001b[0m\u001b[0;36m1000\u001b[0m\u001b[0;34m]\u001b[0m\u001b[0;34m)\u001b[0m\u001b[0;34m,\u001b[0m\u001b[0;36m2\u001b[0m\u001b[0;34m)\u001b[0m\u001b[0;34m,\u001b[0m \u001b[0mround\u001b[0m\u001b[0;34m(\u001b[0m\u001b[0mmin\u001b[0m\u001b[0;34m(\u001b[0m\u001b[0mfollowerSpeedProfile\u001b[0m\u001b[0;34m[\u001b[0m\u001b[0;36m1000\u001b[0m\u001b[0;34m:\u001b[0m\u001b[0;34m]\u001b[0m\u001b[0;34m)\u001b[0m\u001b[0;34m,\u001b[0m\u001b[0;36m2\u001b[0m\u001b[0;34m)\u001b[0m\u001b[0;34m)\u001b[0m\u001b[0;34m\u001b[0m\u001b[0;34m\u001b[0m\u001b[0m\n\u001b[0m",
      "\u001b[0;31mValueError\u001b[0m: min() arg is an empty sequence"
     ]
    }
   ],
   "source": [
    "print(round(min(followerSpeedProfile[:1000]),2), round(min(followerSpeedProfile[1000:]),2))"
   ]
  },
  {
   "cell_type": "code",
   "execution_count": 9,
   "metadata": {},
   "outputs": [],
   "source": [
    "file = open(os.path.join(log_path, log_file + 'trajInfo'), 'wb')\n",
    "pickle.dump([leadSpeedProfile, followerSpeedProfile, followerSpacing], file)\n",
    "file.close()"
   ]
  },
  {
   "cell_type": "code",
   "execution_count": null,
   "metadata": {},
   "outputs": [],
   "source": []
  }
 ],
 "metadata": {
  "kernelspec": {
   "display_name": "Python 3",
   "language": "python",
   "name": "python3"
  },
  "language_info": {
   "codemirror_mode": {
    "name": "ipython",
    "version": 3
   },
   "file_extension": ".py",
   "mimetype": "text/x-python",
   "name": "python",
   "nbconvert_exporter": "python",
   "pygments_lexer": "ipython3",
   "version": "3.8.5"
  },
  "varInspector": {
   "cols": {
    "lenName": 16,
    "lenType": 16,
    "lenVar": 40
   },
   "kernels_config": {
    "python": {
     "delete_cmd_postfix": "",
     "delete_cmd_prefix": "del ",
     "library": "var_list.py",
     "varRefreshCmd": "print(var_dic_list())"
    },
    "r": {
     "delete_cmd_postfix": ") ",
     "delete_cmd_prefix": "rm(",
     "library": "var_list.r",
     "varRefreshCmd": "cat(var_dic_list()) "
    }
   },
   "types_to_exclude": [
    "module",
    "function",
    "builtin_function_or_method",
    "instance",
    "_Feature"
   ],
   "window_display": false
  }
 },
 "nbformat": 4,
 "nbformat_minor": 4
}
